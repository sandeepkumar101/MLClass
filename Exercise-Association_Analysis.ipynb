{
 "cells": [
  {
   "cell_type": "markdown",
   "metadata": {
    "deletable": false,
    "editable": false,
    "nbgrader": {
     "grade": false,
     "locked": true,
     "solution": false
    }
   },
   "source": [
    "# Exercise for Week 12: Association Analysis\n",
    "\n",
    "This week's work will be a little different (and a little shorter) than the formal \"Assignments\" for the other weeks.  \n",
    "\n",
    "This exercise asks functionally a single question. A few hints and functions are provided which should pave the way to use the apriori algorithm to find the two (2) most frequent collections of items in 250,000 orders.  \n",
    "\n",
    "Ultimately you will be asked to give to give the two lists of the four items that are found together in more than 300 orders.\n",
    "\n",
    "## An Important Note On Grading\n",
    "\n",
    "A number of these cells could take a long time to run. **To decrease grading time, comment out any cells that take a long time to run.**\n",
    "\n",
    "### The Data\n",
    "\n",
    "The data today is a subset of data from the [\"Insta-Cart\"](https://www.kaggle.com/c/instacart-market-basket-analysis/data) dataset on Kaggle"
   ]
  },
  {
   "cell_type": "code",
   "execution_count": 1,
   "metadata": {
    "collapsed": true,
    "deletable": false,
    "editable": false,
    "nbgrader": {
     "grade": false,
     "locked": true,
     "solution": false
    }
   },
   "outputs": [],
   "source": [
    "import pandas as pd\n",
    "import matplotlib.pyplot as plt\n",
    "import numpy as np\n",
    "%matplotlib inline"
   ]
  },
  {
   "cell_type": "code",
   "execution_count": 2,
   "metadata": {
    "deletable": false,
    "editable": false,
    "nbgrader": {
     "grade": false,
     "locked": true,
     "solution": false
    }
   },
   "outputs": [
    {
     "data": {
      "text/html": [
       "<div>\n",
       "<style scoped>\n",
       "    .dataframe tbody tr th:only-of-type {\n",
       "        vertical-align: middle;\n",
       "    }\n",
       "\n",
       "    .dataframe tbody tr th {\n",
       "        vertical-align: top;\n",
       "    }\n",
       "\n",
       "    .dataframe thead th {\n",
       "        text-align: right;\n",
       "    }\n",
       "</style>\n",
       "<table border=\"1\" class=\"dataframe\">\n",
       "  <thead>\n",
       "    <tr style=\"text-align: right;\">\n",
       "      <th></th>\n",
       "      <th>order_id</th>\n",
       "      <th>product_id</th>\n",
       "    </tr>\n",
       "  </thead>\n",
       "  <tbody>\n",
       "    <tr>\n",
       "      <th>0</th>\n",
       "      <td>7</td>\n",
       "      <td>34050</td>\n",
       "    </tr>\n",
       "    <tr>\n",
       "      <th>1</th>\n",
       "      <td>7</td>\n",
       "      <td>46802</td>\n",
       "    </tr>\n",
       "    <tr>\n",
       "      <th>2</th>\n",
       "      <td>13</td>\n",
       "      <td>17330</td>\n",
       "    </tr>\n",
       "    <tr>\n",
       "      <th>3</th>\n",
       "      <td>13</td>\n",
       "      <td>27407</td>\n",
       "    </tr>\n",
       "    <tr>\n",
       "      <th>4</th>\n",
       "      <td>13</td>\n",
       "      <td>35419</td>\n",
       "    </tr>\n",
       "  </tbody>\n",
       "</table>\n",
       "</div>"
      ],
      "text/plain": [
       "   order_id  product_id\n",
       "0         7       34050\n",
       "1         7       46802\n",
       "2        13       17330\n",
       "3        13       27407\n",
       "4        13       35419"
      ]
     },
     "execution_count": 2,
     "metadata": {},
     "output_type": "execute_result"
    }
   ],
   "source": [
    "file_path = \"../resource/asnlib/publicdata/insta_cart_subset.csv\"\n",
    "\n",
    "data = pd.read_csv(file_path)\n",
    "data.head()"
   ]
  },
  {
   "cell_type": "markdown",
   "metadata": {
    "deletable": false,
    "editable": false,
    "nbgrader": {
     "grade": false,
     "locked": true,
     "solution": false
    }
   },
   "source": [
    "As you can see above, the data consists of two columns, an `order_id` and a `product_id`.  \n",
    "\n",
    "Looking at the first 5 rows, we can see that order #7 consisted of items 34050, and 46802."
   ]
  },
  {
   "cell_type": "code",
   "execution_count": 3,
   "metadata": {
    "deletable": false,
    "editable": false,
    "nbgrader": {
     "grade": false,
     "locked": true,
     "solution": false
    }
   },
   "outputs": [
    {
     "name": "stdout",
     "output_type": "stream",
     "text": [
      "250000\n"
     ]
    }
   ],
   "source": [
    "unique_orders = len(data.order_id.unique())\n",
    "print(unique_orders)"
   ]
  },
  {
   "cell_type": "markdown",
   "metadata": {
    "deletable": false,
    "editable": false,
    "nbgrader": {
     "grade": false,
     "locked": true,
     "solution": false
    }
   },
   "source": [
    "Count appearances of each product, and delete products which do not appear at least 500 times."
   ]
  },
  {
   "cell_type": "code",
   "execution_count": 4,
   "metadata": {
    "deletable": false,
    "editable": false,
    "nbgrader": {
     "grade": false,
     "locked": true,
     "solution": false
    }
   },
   "outputs": [
    {
     "data": {
      "text/plain": [
       "Int64Index([24852, 13176, 21137, 21903, 47209, 47766, 47626, 16797, 26209,\n",
       "            27845],\n",
       "           dtype='int64')"
      ]
     },
     "execution_count": 4,
     "metadata": {},
     "output_type": "execute_result"
    }
   ],
   "source": [
    "count_of_each_product = data.product_id.value_counts()\n",
    "products_to_keep = count_of_each_product[count_of_each_product > 500].index\n",
    "products_to_keep[:10]"
   ]
  },
  {
   "cell_type": "markdown",
   "metadata": {
    "deletable": false,
    "editable": false,
    "nbgrader": {
     "grade": false,
     "locked": true,
     "solution": false
    }
   },
   "source": [
    "Keep only those products"
   ]
  },
  {
   "cell_type": "code",
   "execution_count": 5,
   "metadata": {
    "deletable": false,
    "editable": false,
    "nbgrader": {
     "grade": false,
     "locked": true,
     "solution": false
    }
   },
   "outputs": [
    {
     "data": {
      "text/plain": [
       "(1446454, 2)"
      ]
     },
     "execution_count": 5,
     "metadata": {},
     "output_type": "execute_result"
    }
   ],
   "source": [
    "compacted_data = data[data.product_id.isin(products_to_keep)]\n",
    "compacted_data.shape"
   ]
  },
  {
   "cell_type": "markdown",
   "metadata": {
    "deletable": false,
    "editable": false,
    "nbgrader": {
     "grade": false,
     "locked": true,
     "solution": false
    }
   },
   "source": [
    "### Helper Function\n",
    "\n",
    "The below function finds all of the product groupings of a specified size, and counts how many times they appear.\n",
    "\n",
    "The solution for this exercise could theoretically be found by running \"`find_groups_of_size_n(compacted_data, 4)`\". However, without a fantastic amount of computing power and memory, that would take a very long time and/or result in a memory error.  \n",
    "\n",
    "Thus the trick to this exercise is determining how to cut-down the size of the data being investigated.  \n",
    "\n",
    "If the data is not cut-down enough, you will see a MemoryError\n",
    "\n",
    "A few ideas:\n",
    "1. We know we are looking for product groups of four items. Thus all orders of fewer than 4 items may be disregarded.\n",
    "2. Use the theories which support the apriori algorithm to further reduce the orders / products which are grouped. "
   ]
  },
  {
   "cell_type": "code",
   "execution_count": 6,
   "metadata": {
    "collapsed": true,
    "deletable": false,
    "editable": false,
    "nbgrader": {
     "grade": false,
     "locked": true,
     "solution": false
    }
   },
   "outputs": [],
   "source": [
    "import itertools as it\n",
    "def find_groups_of_size_n(data, size):\n",
    "    group_by = data.groupby(\"order_id\")['product_id'].unique()\n",
    "    group_by = group_by.apply(lambda x: sorted(x))\n",
    "    group_by = pd.DataFrame(group_by)\n",
    "    def groupings(x):\n",
    "        return list(it.combinations(x,size))\n",
    "    \n",
    "    group_by['groups'] = group_by['product_id'].apply(groupings)\n",
    "    counts = pd.Series(list(it.chain.from_iterable(group_by['groups'].values))).value_counts()\n",
    "    return counts"
   ]
  },
  {
   "cell_type": "markdown",
   "metadata": {
    "deletable": false,
    "editable": false,
    "nbgrader": {
     "grade": false,
     "locked": true,
     "solution": false
    }
   },
   "source": [
    "Example of using above function\n",
    "\n",
    "**The below cell is an example of code that should be commented out to decrease grading time**"
   ]
  },
  {
   "cell_type": "code",
   "execution_count": 7,
   "metadata": {
    "nbgrader": {
     "grade": false,
     "locked": false,
     "solution": false
    }
   },
   "outputs": [
    {
     "name": "stdout",
     "output_type": "stream",
     "text": [
      "CPU times: user 0 ns, sys: 0 ns, total: 0 ns\n",
      "Wall time: 6.2 µs\n"
     ]
    }
   ],
   "source": [
    "%%time\n",
    "# find_groups_of_size_n(compacted_data,2).head()"
   ]
  },
  {
   "cell_type": "markdown",
   "metadata": {
    "deletable": false,
    "editable": false,
    "nbgrader": {
     "grade": false,
     "locked": true,
     "solution": false
    }
   },
   "source": [
    "### Work Area Below"
   ]
  },
  {
   "cell_type": "code",
   "execution_count": 9,
   "metadata": {},
   "outputs": [
    {
     "name": "stdout",
     "output_type": "stream",
     "text": [
      "(13176, 47209)    5462\n",
      "(13176, 21137)    5326\n",
      "(21137, 24852)    4765\n",
      "(24852, 47766)    4548\n",
      "(21903, 24852)    4302\n",
      "dtype: int64\n"
     ]
    }
   ],
   "source": [
    "print(find_groups_of_size_n(compacted_data,2).head())"
   ]
  },
  {
   "cell_type": "code",
   "execution_count": null,
   "metadata": {
    "collapsed": true
   },
   "outputs": [],
   "source": []
  },
  {
   "cell_type": "code",
   "execution_count": null,
   "metadata": {
    "collapsed": true
   },
   "outputs": [],
   "source": []
  },
  {
   "cell_type": "code",
   "execution_count": null,
   "metadata": {
    "collapsed": true
   },
   "outputs": [],
   "source": []
  },
  {
   "cell_type": "markdown",
   "metadata": {
    "deletable": false,
    "editable": false,
    "nbgrader": {
     "grade": false,
     "locked": true,
     "solution": false
    }
   },
   "source": [
    "#### Graded Response\n",
    "**Note: the answer is hard coded, your responses should be hard coded as well.**\n",
    "\n",
    "**If this cell contains long-running code, it may fail** "
   ]
  },
  {
   "cell_type": "code",
   "execution_count": 1,
   "metadata": {
    "collapsed": true
   },
   "outputs": [],
   "source": [
    "### GRADED\n",
    "### What are the two sets of the four items which are found together more than 300 times\n",
    "### in the above dataset.\n",
    "\n",
    "### Assign one list of four product_ids to set_1,\n",
    "### and one list of four product_ids to set_2\n",
    "\n",
    "### For example, after running the cell above \"find_groups_of_size_n(compacted_data,2).head()\",\n",
    "### If the questions were about the sets of two items which appear more than 5000 times together\n",
    "### The answers would be:\n",
    "\n",
    "### set_1 = [13176, 47209]\n",
    "### set_2 = [13176, 21137]\n",
    "\n",
    "### YOUR ANSWER BELOW\n",
    "\n",
    "set_1 = [13176, 47209]\n",
    "set_2 = [13176, 21137]"
   ]
  },
  {
   "cell_type": "code",
   "execution_count": null,
   "metadata": {
    "collapsed": true,
    "deletable": false,
    "editable": false,
    "nbgrader": {
     "grade": true,
     "grade_id": "Graded Response",
     "locked": true,
     "points": "10",
     "solution": false
    }
   },
   "outputs": [],
   "source": [
    "###\n",
    "### AUTOGRADER TEST - DO NOT REMOVE\n",
    "###\n"
   ]
  },
  {
   "cell_type": "markdown",
   "metadata": {
    "deletable": false,
    "editable": false,
    "nbgrader": {
     "grade": false,
     "locked": true,
     "solution": false
    }
   },
   "source": [
    "### Lookup function for product names  \n",
    "\n",
    "If you are interested, a single product ID or a list of product IDs may be looked up using the function below "
   ]
  },
  {
   "cell_type": "code",
   "execution_count": null,
   "metadata": {
    "collapsed": true,
    "deletable": false,
    "editable": false,
    "nbgrader": {
     "grade": false,
     "locked": true,
     "solution": false
    }
   },
   "outputs": [],
   "source": [
    "prod_filepath = \"../resource/asnlib/publicdata/products.csv\"\n",
    "products = pd.read_csv(prod_filepath)\n",
    "def product_lookup(product_ids):\n",
    "    try:\n",
    "        len(product_ids)\n",
    "        names = [products[products.product_id == pid].iloc[0,1] for pid in product_ids]\n",
    "    except:\n",
    "        names = products[products.product_id == product_ids].iloc[0,1]\n",
    "    \n",
    "    return names"
   ]
  },
  {
   "cell_type": "code",
   "execution_count": null,
   "metadata": {
    "collapsed": true
   },
   "outputs": [],
   "source": [
    "product_lookup(13176)"
   ]
  }
 ],
 "metadata": {
  "kernelspec": {
   "display_name": "Python 3 [3.6]",
   "language": "python",
   "name": "python3"
  },
  "language_info": {
   "codemirror_mode": {
    "name": "ipython",
    "version": 3
   },
   "file_extension": ".py",
   "mimetype": "text/x-python",
   "name": "python",
   "nbconvert_exporter": "python",
   "pygments_lexer": "ipython3",
   "version": "3.6.4"
  }
 },
 "nbformat": 4,
 "nbformat_minor": 2
}
